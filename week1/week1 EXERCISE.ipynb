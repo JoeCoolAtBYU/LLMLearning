{
 "cells": [
  {
   "cell_type": "markdown",
   "id": "fe12c203-e6a6-452c-a655-afb8a03a4ff5",
   "metadata": {},
   "source": [
    "# End of week 1 exercise\n",
    "\n",
    "To demonstrate your familiarity with OpenAI API, and also Ollama, build a tool that takes a technical question,  \n",
    "and responds with an explanation. This is a tool that you will be able to use yourself during the course!"
   ]
  },
  {
   "cell_type": "code",
   "execution_count": 1,
   "id": "c1070317-3ed9-4659-abe3-828943230e03",
   "metadata": {},
   "outputs": [],
   "source": [
    "# imports\n",
    "from dotenv import load_dotenv\n",
    "from IPython.display import Markdown, display, update_display\n",
    "from openai import OpenAI\n",
    "import ollama"
   ]
  },
  {
   "cell_type": "code",
   "execution_count": 2,
   "id": "4a456906-915a-4bfd-bb9d-57e505c5093f",
   "metadata": {},
   "outputs": [],
   "source": [
    "# constants\n",
    "\n",
    "MODEL_GPT = 'gpt-4o-mini'\n",
    "MODEL_LLAMA = 'llama3.2'"
   ]
  },
  {
   "cell_type": "code",
   "execution_count": 3,
   "id": "a8d7923c-5f28-4c30-8556-342d7c8497c1",
   "metadata": {},
   "outputs": [],
   "source": [
    "# set up environment\n",
    "\n",
    "load_dotenv()\n",
    "openai = OpenAI()"
   ]
  },
  {
   "cell_type": "code",
   "execution_count": 6,
   "id": "3f0d0137-52b0-47a8-81a8-11a90a010798",
   "metadata": {},
   "outputs": [],
   "source": [
    "# here is the question; type over this to ask something new\n",
    "\n",
    "question = \"\"\"\n",
    "Please explain what this code does and why:\n",
    "yield from {book.get(\"author\") for book in books if book.get(\"author\")}\n",
    "\"\"\""
   ]
  },
  {
   "cell_type": "code",
   "execution_count": 7,
   "id": "60ce7000-a4a5-4cce-a261-e75ef45063b4",
   "metadata": {},
   "outputs": [],
   "source": [
    "# Get gpt-4o-mini to answer, with streaming\n",
    "\n",
    "system_prompt = \"You are a helpful technical tutor who answers questions about python code, software engineering, data scinece and LLMs\"\n",
    "user_prompt = \"Please give a detailed explination to the following question: \" + question"
   ]
  },
  {
   "cell_type": "code",
   "execution_count": 8,
   "id": "61758bbe-a99c-4566-bd37-c5df6ac346e8",
   "metadata": {},
   "outputs": [],
   "source": [
    "# Get gpt-4o-mini to answer, with streaming\n",
    "messages = [\n",
    "    {\"role\": \"system\", \"content\": system_prompt},\n",
    "    {\"role\": \"user\", \"content\": user_prompt}\n",
    "]"
   ]
  },
  {
   "cell_type": "code",
   "execution_count": 11,
   "id": "746928a4-0de2-40ad-9995-e43de6739ee8",
   "metadata": {
    "scrolled": true
   },
   "outputs": [
    {
     "data": {
      "text/markdown": [
       "The code snippet you provided employs several Python features, including the `yield from` statement, a set comprehension, and dictionary-like access with the `.get()` method. Let's break down the code to understand what it does and why it is written in this way.\n",
       "\n",
       "### Components Breakdown\n",
       "\n",
       "1. **Set Comprehension**:\n",
       "   python\n",
       "   {book.get(\"author\") for book in books if book.get(\"author\")}\n",
       "   \n",
       "   - This part of the code creates a set using a comprehension. A set is an unordered collection of unique elements. The comprehension iterates over a collection called `books`.\n",
       "   - For each `book` in the `books` iterable, it calls `book.get(\"author\")`. The `.get()` method is used to retrieve the value associated with the key `\"author\"` in the `book` dictionary.\n",
       "   - The `if book.get(\"author\")` condition ensures that only books with a non-`None` or non-empty author name will be included in the set. If the author key is missing or if it maps to a falsy value (like an empty string or `None`), the book will be ignored.\n",
       "   - As a result, this piece of code constructs a set containing the unique authors from the `books` collection.\n",
       "\n",
       "2. **Yield from**:\n",
       "   python\n",
       "   yield from ...\n",
       "   \n",
       "   - The `yield from` expression is used within a generator function. It simplifies the process of yielding values from a sub-generator or an iterable. \n",
       "   - In this context, `yield from` will yield each element from the set created by the comprehension one at a time.\n",
       "   - Since sets are unordered, the order in which authors are yielded may differ every time you iterate over them.\n",
       "\n",
       "### Explanation of the Entire Code\n",
       "\n",
       "Given this breakdown, let's understand what the entire line of code accomplishes:\n",
       "\n",
       "1. **Purpose**: The line is likely part of a generator function that aims to yield a list of unique authors from a collection of `books`, where each book is represented as a dictionary.\n",
       "\n",
       "2. **Functionality**: When this line of code is executed within a generator function:\n",
       "   - It will yield each unique author string found in the `books` collection.\n",
       "   - If a book does not have an author or if there are duplicates in the author names, those will be ignored (due to the set's properties and the filter condition).\n",
       "\n",
       "3. **Why Use This Approach**:\n",
       "   - **Efficiency**: Using a set comprehension to collect authors ensures that you only keep unique author names without needing extra logic to filter duplicates.\n",
       "   - **Readability**: The use of `yield from` simplifies the generator's code when you are iterating over another iterable.\n",
       "   - **Lazy Evaluation**: By yielding from a generator, you avoid creating a potentially large intermediate list of authors, and you can process each author as needed when the generator is iterated over.\n",
       "\n",
       "### Example\n",
       "\n",
       "Let's say we have the following `books` list:\n",
       "\n",
       "python\n",
       "books = [\n",
       "    {\"title\": \"Book 1\", \"author\": \"Author A\"},\n",
       "    {\"title\": \"Book 2\", \"author\": \"Author B\"},\n",
       "    {\"title\": \"Book 3\", \"author\": \"Author A\"}, # Duplicate author\n",
       "    {\"title\": \"Book 4\"},                        # No author\n",
       "    {\"title\": \"Book 5\", \"author\": None},       # Author is None\n",
       "    {\"title\": \"Book 6\", \"author\": \"Author C\"}\n",
       "]\n",
       "\n",
       "\n",
       "When executed, the line of code will yield:\n",
       "- \"Author A\"\n",
       "- \"Author B\"\n",
       "- \"Author C\"\n",
       "\n",
       "If you iterate over the generator, it will give you the unique authors without any duplicates or missing values.\n",
       "\n",
       "In conclusion, this line of code efficiently extracts unique authors from a list of books and yields them one at a time, making use of Python's powerful features for conciseness and clarity."
      ],
      "text/plain": [
       "<IPython.core.display.Markdown object>"
      ]
     },
     "metadata": {},
     "output_type": "display_data"
    }
   ],
   "source": [
    "# Get gpt-4o-mini to answer, with streaming\n",
    "stream = openai.chat.completions.create(model=MODEL_GPT, messages=messages, stream=True)\n",
    "\n",
    "response = \"\"\n",
    "display_handle = display(Markdown(\"\"), display_id=True)\n",
    "for chunk in stream:\n",
    "    response += chunk.choices[0].delta.content or ''\n",
    "    response = response.replace(\"```\",\"\").replace(\"markdown\",\"\")\n",
    "    update_display(Markdown(response), display_id = display_handle.display_id)"
   ]
  },
  {
   "cell_type": "code",
   "execution_count": 12,
   "id": "8f7c8ea8-4082-4ad0-8751-3301adcf6538",
   "metadata": {
    "scrolled": true
   },
   "outputs": [
    {
     "data": {
      "text/markdown": [
       "**Code Explanation**\n",
       "\n",
       "The given code snippet is using Python's yield from statement, which is part of the yield keyword.\n",
       "\n",
       "```python\n",
       "from typing import Iterable, Dict\n",
       "\n",
       "# assuming this function has been defined elsewhere\n",
       "def get_authors(books: List[Dict]) -> Iterable[str]:\n",
       "    return (book.get(\"author\") for book in books if book.get(\"author\"))\n",
       "```\n",
       "\n",
       "Let's break down what this code does:\n",
       "\n",
       "- `get_authors`: This is a function that takes a list of dictionaries (`books`) as input. Each dictionary represents a book with its details, including an author.\n",
       "  \n",
       "- `(book.get(\"author\") for book in books if book.get(\"author\"))`: This is a generator expression. It iterates over each book in the `books` list and yields (not executes immediately) the value of the `\"author\"` key if it exists in that book's dictionary.\n",
       "\n",
       "- `yield from {...}`: The yield from statement takes all the yielded values (in this case, the authors) and makes them available as a single iterable (an iterator), allowing us to iterate over these values.\n",
       "\n",
       "**How it works together**\n",
       "\n",
       "So, let's combine everything:\n",
       "\n",
       "```python\n",
       "from typing import Iterable, Dict\n",
       "\n",
       "def get_authors(books: List[Dict]) -> Iterable[str]:\n",
       "    return yield from {book.get(\"author\") for book in books if book.get(\"author\")}\n",
       "```\n",
       "\n",
       "- The `get_authors` function returns an iterable of author names.\n",
       "  \n",
       "- We use a dictionary comprehension `{...}` to iterate over each book in the list and get its author. This results in a dictionary with the authors.\n",
       "\n",
       "- Then we use `yield from {...}` to yield (and make available) all the values (authors) in this dictionary.\n",
       "\n",
       "**Why it's used**\n",
       "\n",
       "This code is useful when you need to filter out books without an author, but still want to iterate over all the existing authors. Using a generator expression makes it efficient for large datasets because it doesn't load all the data into memory at once.\n",
       "\n",
       "For example, if you're building an e-book catalog and only care about iterating over the authors of each book:\n",
       "\n",
       "```python\n",
       "books = [\n",
       "    {\"title\": \"Book1\", \"author\": \"AuthorA\"},\n",
       "    {\"title\": \"Book2\", \"publisher\": \"PublisherB\"},\n",
       "    {\"title\": \"Book3\", \"author\": \"AuthorC\"}\n",
       "]\n",
       "\n",
       "for author in get_authors(books):\n",
       "    print(author)  # prints: AuthorA, AuthorC\n",
       "```\n",
       "\n",
       "This code will only print the authors of books with existing data (i.e., `{\"author\": ...}`)."
      ],
      "text/plain": [
       "<IPython.core.display.Markdown object>"
      ]
     },
     "metadata": {},
     "output_type": "display_data"
    }
   ],
   "source": [
    "# Get Llama 3.2 to answer\n",
    "\n",
    "response = ollama.chat(model=MODEL_LLAMA, messages=messages)\n",
    "reply = response['message']['content']\n",
    "display(Markdown(reply))"
   ]
  }
 ],
 "metadata": {
  "kernelspec": {
   "display_name": "Python 3 (ipykernel)",
   "language": "python",
   "name": "python3"
  },
  "language_info": {
   "codemirror_mode": {
    "name": "ipython",
    "version": 3
   },
   "file_extension": ".py",
   "mimetype": "text/x-python",
   "name": "python",
   "nbconvert_exporter": "python",
   "pygments_lexer": "ipython3",
   "version": "3.11.12"
  }
 },
 "nbformat": 4,
 "nbformat_minor": 5
}
